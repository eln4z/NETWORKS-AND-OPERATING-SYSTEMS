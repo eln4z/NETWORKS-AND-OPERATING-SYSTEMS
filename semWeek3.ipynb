{
 "cells": [
  {
   "cell_type": "code",
   "execution_count": 11,
   "metadata": {},
   "outputs": [
    {
     "name": "stdout",
     "output_type": "stream",
     "text": [
      "\n",
      "Traceroute for instagram.com:\n",
      "\n",
      "\n",
      "\n",
      "Traceroute for pinterest.com:\n",
      "\n",
      "\n",
      "\n",
      "Traceroute for amazon.com:\n",
      "\n",
      "\n"
     ]
    }
   ],
   "source": [
    "import subprocess\n",
    "import platform\n",
    "\n",
    "def tracert(domain):\n",
    "    try:\n",
    "        system_os = platform.system().lower()\n",
    "        \n",
    "        # Use 'tracert' for Windows, 'traceroute' for Linux/macOS\n",
    "        command = [\"tracert\", domain] if system_os == \"windows\" else [\"traceroute\", domain]\n",
    "\n",
    "        # Run the command and capture the output\n",
    "        result = subprocess.run(command, capture_output=True, text=True, shell=True)\n",
    "        \n",
    "        # Print the traceroute output\n",
    "        print(f\"\\nTraceroute for {domain}:\\n\")\n",
    "        print(result.stdout)\n",
    "\n",
    "    except FileNotFoundError:\n",
    "        print(f\"Traceroute command not found for {domain}. Ensure it's installed on your system.\")\n",
    "    except Exception as e:\n",
    "        print(f\"An error occurred while tracing {domain}: {e}\")\n",
    "\n",
    "# List of domains to test\n",
    "domains = [\"instagram.com\", \"pinterest.com\", \"amazon.com\"]\n",
    "\n",
    "# Run traceroute for each domain\n",
    "for domain in domains:\n",
    "    tracert(domain)\n",
    "\n"
   ]
  },
  {
   "cell_type": "code",
   "execution_count": 12,
   "metadata": {},
   "outputs": [
    {
     "name": "stdout",
     "output_type": "stream",
     "text": [
      "Connected to www.amazon.com on port 80\n",
      "\n",
      "Server Response:\n",
      "\n",
      "HTTP/1.1 301 Moved Permanently\n",
      "Server: AkamaiGHost\n",
      "Content-Length: 0\n",
      "Location: https://www.amazon.com/\n",
      "Date: Tue, 18 Mar 2025 11:43:03 GMT\n",
      "Connection: close\n",
      "X-Amzn-Cdn-Id: ak-0.6de71502.1742298183.14cfce54\n",
      "X-Cache: NotCacheable from child\n",
      "\n",
      "\n"
     ]
    }
   ],
   "source": [
    "import socket\n",
    "\n",
    "# Create a TCP socket\n",
    "client_socket = socket.socket(socket.AF_INET, socket.SOCK_STREAM)\n",
    "\n",
    "# Define the server address and port\n",
    "server_address = ('www.amazon.com', 80)  # Change to any website\n",
    "\n",
    "try:\n",
    "    # Connect to the server\n",
    "    client_socket.connect(server_address)\n",
    "    print(f\"Connected to {server_address[0]} on port {server_address[1]}\")\n",
    "\n",
    "    # Send an HTTP GET request\n",
    "    request = \"GET / HTTP/1.1\\r\\nHost: www.amazon.com\\r\\nConnection: close\\r\\n\\r\\n\"\n",
    "    client_socket.send(request.encode())\n",
    "\n",
    "    # Receive and print the response\n",
    "    response = client_socket.recv(4096)\n",
    "    print(\"\\nServer Response:\\n\")\n",
    "    print(response.decode())\n",
    "\n",
    "except Exception as e:\n",
    "    print(f\"Error: {e}\")\n",
    "\n",
    "finally:\n",
    "    # Close the socket\n",
    "    client_socket.close()\n"
   ]
  }
 ],
 "metadata": {
  "kernelspec": {
   "display_name": "Python 3",
   "language": "python",
   "name": "python3"
  },
  "language_info": {
   "codemirror_mode": {
    "name": "ipython",
    "version": 3
   },
   "file_extension": ".py",
   "mimetype": "text/x-python",
   "name": "python",
   "nbconvert_exporter": "python",
   "pygments_lexer": "ipython3",
   "version": "3.9.6"
  }
 },
 "nbformat": 4,
 "nbformat_minor": 2
}
