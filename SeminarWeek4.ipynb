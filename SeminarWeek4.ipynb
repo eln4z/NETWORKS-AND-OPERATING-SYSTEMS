{
 "cells": [
  {
   "cell_type": "code",
   "execution_count": null,
   "metadata": {},
   "outputs": [],
   "source": [
    "import socket\n",
    "\n",
    "# Create a UDP client socket\n",
    "client_socket = socket.socket(socket.AF_INET, socket.SOCK_DGRAM)\n",
    "\n",
    "# Define the server address and port\n",
    "server_address = ('localhost', 65433)\n",
    "\n",
    "# Message to send\n",
    "message = b\"Hello, UDP Server!\"\n",
    "\n",
    "# Send the message to the server\n",
    "client_socket.sendto(message, server_address)\n",
    "\n",
    "# Receive response from the server\n",
    "response, _ = client_socket.recvfrom(2048)\n",
    "print(\"Server response:\", response.decode())\n",
    "\n",
    "# Close the socket\n",
    "client_socket.close()\n"
   ]
  },
  {
   "cell_type": "code",
   "execution_count": null,
   "metadata": {},
   "outputs": [
    {
     "name": "stdout",
     "output_type": "stream",
     "text": [
      "UDP Server is ready to receive weather data...\n"
     ]
    }
   ],
   "source": [
    "import socket\n",
    "\n",
    "# Create a UDP server socket\n",
    "server_socket = socket.socket(socket.AF_INET, socket.SOCK_DGRAM)\n",
    "server_socket.bind(('localhost', 65433))\n",
    "\n",
    "print(\"UDP Server is ready to receive weather data...\")\n",
    "\n",
    "while True:\n",
    "    data, client_address = server_socket.recvfrom(2048)  # Receive data from client\n",
    "    print(f\"Received weather data from {client_address}: {data.decode()}\")\n"
   ]
  },
  {
   "cell_type": "code",
   "execution_count": null,
   "metadata": {},
   "outputs": [],
   "source": [
    "import socket\n",
    "import requests\n",
    "\n",
    "# Fetch weather data from the API\n",
    "api_url = \"https://api.open-meteo.com/v1/forecast?latitude=51.47&longitude=-0.0363&current_weather=true\"\n",
    "response = requests.get(api_url)\n",
    "\n",
    "if response.status_code == 200:\n",
    "    weather_data = response.json()\n",
    "    temperature = weather_data[\"current_weather\"][\"temperature\"]\n",
    "    message = f\"Current temperature: {temperature}°C\"\n",
    "else:\n",
    "    message = \"Failed to fetch weather data\"\n",
    "\n",
    "# Send the weather data using UDP\n",
    "client_socket = socket.socket(socket.AF_INET, socket.SOCK_DGRAM)\n",
    "server_address = ('localhost', 65433)\n",
    "\n",
    "client_socket.sendto(message.encode(), server_address)\n",
    "print(\"Weather data sent!\")\n",
    "\n",
    "client_socket.close()\n"
   ]
  }
 ],
 "metadata": {
  "kernelspec": {
   "display_name": "Python 3",
   "language": "python",
   "name": "python3"
  },
  "language_info": {
   "codemirror_mode": {
    "name": "ipython",
    "version": 3
   },
   "file_extension": ".py",
   "mimetype": "text/x-python",
   "name": "python",
   "nbconvert_exporter": "python",
   "pygments_lexer": "ipython3",
   "version": "3.9.6"
  }
 },
 "nbformat": 4,
 "nbformat_minor": 2
}
