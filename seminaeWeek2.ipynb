{
 "cells": [
  {
   "cell_type": "code",
   "execution_count": 1,
   "metadata": {},
   "outputs": [
    {
     "name": "stdout",
     "output_type": "stream",
     "text": [
      "Addition: 8\n",
      "Subtraction: 2\n",
      "Multiplication: 15\n",
      "Division: 1.6666666666666667\n",
      "Remainder: 2\n",
      "Power: 125\n"
     ]
    }
   ],
   "source": [
    "# Addition\n",
    "num1, num2 = 5, 3\n",
    "print(\"Addition:\", num1 + num2)\n",
    "\n",
    "# Subtraction\n",
    "print(\"Subtraction:\", num1 - num2)\n",
    "\n",
    "# Multiplication\n",
    "print(\"Multiplication:\", num1 * num2)\n",
    "\n",
    "# Division\n",
    "print(\"Division:\", num1 / num2)\n",
    "\n",
    "# Remainder\n",
    "print(\"Remainder:\", num1 % num2)\n",
    "\n",
    "# Power\n",
    "print(\"Power:\", num1 ** num2)\n"
   ]
  },
  {
   "cell_type": "code",
   "execution_count": 2,
   "metadata": {},
   "outputs": [
    {
     "name": "stdout",
     "output_type": "stream",
     "text": [
      "Fruits: ['Apple', 'Banana', 'Cherry', 'Orange', 'Grapes']\n",
      "Animals: ('Dog', 'Cat', 'Elephant')\n",
      "Languages: {'Python': 1991, 'Java': 1995, 'C++': 1985}\n",
      "Colors: {'Green', 'Red', 'Blue'}\n",
      "Python is an easy-to-learn programming language.\n"
     ]
    }
   ],
   "source": [
    "# List of fruits\n",
    "fruits = [\"Apple\", \"Banana\", \"Cherry\", \"Orange\", \"Grapes\"]\n",
    "print(\"Fruits:\", fruits)\n",
    "\n",
    "# Tuple of animals\n",
    "animals = (\"Dog\", \"Cat\", \"Elephant\")\n",
    "print(\"Animals:\", animals)\n",
    "\n",
    "# Dictionary of programming languages\n",
    "languages = {\"Python\": 1991, \"Java\": 1995, \"C++\": 1985}\n",
    "print(\"Languages:\", languages)\n",
    "\n",
    "# Set of colors\n",
    "colors = {\"Red\", \"Blue\", \"Green\"}\n",
    "print(\"Colors:\", colors)\n",
    "\n",
    "# String variable\n",
    "sentence = \"Python is an easy-to-learn programming language.\"\n",
    "print(sentence)\n"
   ]
  },
  {
   "cell_type": "code",
   "execution_count": 4,
   "metadata": {},
   "outputs": [
    {
     "name": "stdout",
     "output_type": "stream",
     "text": [
      "Positive\n",
      "Starts with a consonant\n",
      "Numbers are not equal\n"
     ]
    }
   ],
   "source": [
    "# Check if number is positive, negative, or zero\n",
    "num = int(input(\"Enter a number: \"))\n",
    "if num > 0:\n",
    "    print(\"Positive\")\n",
    "elif num < 0:\n",
    "    print(\"Negative\")\n",
    "else:\n",
    "    print(\"Zero\")\n",
    "\n",
    "# Check if string starts with a vowel or consonant\n",
    "word = input(\"Enter a word: \").lower()\n",
    "if word[0] in \"aeiou\":\n",
    "    print(\"Starts with a vowel\")\n",
    "else:\n",
    "    print(\"Starts with a consonant\")\n",
    "\n",
    "# Check if two numbers are equal\n",
    "num1 = int(input(\"Enter first number: \"))\n",
    "num2 = int(input(\"Enter second number: \"))\n",
    "if num1 == num2:\n",
    "    print(\"Numbers are equal\")\n",
    "else:\n",
    "    print(\"Numbers are not equal\")\n"
   ]
  },
  {
   "cell_type": "code",
   "execution_count": 3,
   "metadata": {},
   "outputs": [
    {
     "name": "stdout",
     "output_type": "stream",
     "text": [
      "1\n",
      "2\n",
      "3\n",
      "4\n",
      "5\n",
      "6\n",
      "7\n",
      "8\n",
      "9\n",
      "10\n",
      "2\n",
      "4\n",
      "6\n",
      "8\n",
      "10\n",
      "0\n",
      "1\n",
      "1\n",
      "2\n",
      "3\n"
     ]
    }
   ],
   "source": [
    "# Print numbers from 1 to 10\n",
    "for i in range(1, 11):\n",
    "    print(i)\n",
    "\n",
    "# Print even numbers from 2 to 10\n",
    "for i in range(2, 11, 2):\n",
    "    print(i)\n",
    "\n",
    "# Print first 5 numbers of Fibonacci sequence\n",
    "a, b = 0, 1\n",
    "for _ in range(5):\n",
    "    print(a)\n",
    "    a, b = b, a + b\n"
   ]
  },
  {
   "cell_type": "code",
   "execution_count": 5,
   "metadata": {},
   "outputs": [
    {
     "name": "stdout",
     "output_type": "stream",
     "text": [
      "9\n",
      "30\n",
      "3\n"
     ]
    }
   ],
   "source": [
    "# Function to return sum of two numbers\n",
    "def add_numbers(a, b):\n",
    "    return a + b\n",
    "\n",
    "print(add_numbers(4, 5))\n",
    "\n",
    "# Function to find the largest number in a list\n",
    "def max_in_list(numbers):\n",
    "    return max(numbers)\n",
    "\n",
    "print(max_in_list([10, 25, 30, 5, 8]))\n",
    "\n",
    "# Function to count vowels in a string\n",
    "def count_vowels(s):\n",
    "    return sum(1 for char in s.lower() if char in \"aeiou\")\n",
    "\n",
    "print(count_vowels(\"Hello World\"))\n"
   ]
  },
  {
   "cell_type": "code",
   "execution_count": 6,
   "metadata": {},
   "outputs": [
    {
     "name": "stdout",
     "output_type": "stream",
     "text": [
      "Password must be at least 8 characters long\n",
      "Password must contain at least one uppercase letter\n",
      "Password must contain at least one lowercase letter\n",
      "Password must contain at least one special character\n"
     ]
    }
   ],
   "source": [
    "import string\n",
    "\n",
    "def check_password(password):\n",
    "    special_characters = string.punctuation\n",
    "    errors = []\n",
    "\n",
    "    if len(password) < 8:\n",
    "        errors.append(\"Password must be at least 8 characters long\")\n",
    "    if not any(char.isupper() for char in password):\n",
    "        errors.append(\"Password must contain at least one uppercase letter\")\n",
    "    if not any(char.islower() for char in password):\n",
    "        errors.append(\"Password must contain at least one lowercase letter\")\n",
    "    if not any(char in special_characters for char in password):\n",
    "        errors.append(\"Password must contain at least one special character\")\n",
    "\n",
    "    if errors:\n",
    "        print(\"\\n\".join(errors))\n",
    "    else:\n",
    "        print(\"Password is strong\")\n",
    "\n",
    "password = input(\"Enter password: \")\n",
    "check_password(password)\n"
   ]
  },
  {
   "cell_type": "code",
   "execution_count": null,
   "metadata": {},
   "outputs": [],
   "source": [
    "def caesar_cipher(text, key, mode=\"encrypt\"):\n",
    "    result = \"\"\n",
    "    if mode == \"decrypt\":\n",
    "        key = -key\n",
    "    for char in text:\n",
    "        if char.isalpha():\n",
    "            shift = 65 if char.isupper() else 97\n",
    "            result += chr((ord(char) - shift + key) % 26 + shift)\n",
    "        else:\n",
    "            result += char\n",
    "    return result\n",
    "\n",
    "message = input(\"Enter message: \")\n",
    "key = int(input(\"Enter shift key: \"))\n",
    "mode = input(\"Enter mode (encrypt/decrypt): \").strip().lower()\n",
    "\n",
    "print(\"Output:\", caesar_cipher(message, key, mode))\n"
   ]
  },
  {
   "cell_type": "code",
   "execution_count": null,
   "metadata": {},
   "outputs": [
    {
     "name": "stdout",
     "output_type": "stream",
     "text": [
      "Welcome to Hangman!\n",
      "_ _ _ _ _ _ _ _ _ _\n",
      "Incorrect! Attempts left: 5\n",
      "_ _ _ _ _ _ _ _ _ _\n"
     ]
    }
   ],
   "source": [
    "import random\n",
    "\n",
    "def hangman():\n",
    "    words = [\"python\", \"java\", \"javascript\", \"ruby\"]\n",
    "    word = random.choice(words)\n",
    "    guessed = [\"_\"] * len(word)\n",
    "    attempts = 6\n",
    "    guessed_letters = set()\n",
    "\n",
    "    print(\"Welcome to Hangman!\")\n",
    "    print(\" \".join(guessed))\n",
    "\n",
    "    while attempts > 0 and \"_\" in guessed:\n",
    "        guess = input(\"Guess a letter: \").lower()\n",
    "        \n",
    "        if guess in guessed_letters:\n",
    "            print(\"You already guessed that letter.\")\n",
    "            continue\n",
    "\n",
    "        guessed_letters.add(guess)\n",
    "\n",
    "        if guess in word:\n",
    "            for i, letter in enumerate(word):\n",
    "                if letter == guess:\n",
    "                    guessed[i] = guess\n",
    "        else:\n",
    "            attempts -= 1\n",
    "            print(f\"Incorrect! Attempts left: {attempts}\")\n",
    "\n",
    "        print(\" \".join(guessed))\n",
    "\n",
    "    if \"_\" not in guessed:\n",
    "        print(\"Congratulations! You guessed the word:\", word)\n",
    "    else:\n",
    "        print(\"Game over! The word was:\", word)\n",
    "\n",
    "hangman()\n"
   ]
  }
 ],
 "metadata": {
  "kernelspec": {
   "display_name": "Python 3",
   "language": "python",
   "name": "python3"
  },
  "language_info": {
   "codemirror_mode": {
    "name": "ipython",
    "version": 3
   },
   "file_extension": ".py",
   "mimetype": "text/x-python",
   "name": "python",
   "nbconvert_exporter": "python",
   "pygments_lexer": "ipython3",
   "version": "3.9.6"
  }
 },
 "nbformat": 4,
 "nbformat_minor": 2
}
